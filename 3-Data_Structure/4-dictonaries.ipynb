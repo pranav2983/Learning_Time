{
 "cells": [
  {
   "cell_type": "markdown",
   "metadata": {},
   "source": [
    "dictinaries \n",
    "\n",
    "1. intro to dictionary\n",
    "2. create dictionary\n",
    "3. access elements of dictionary\n",
    "4. modifying dictionary\n",
    "5. dictionary methods\n",
    "6. iterating over dictionary\n",
    "7. nested dictionary \n",
    "8. dictionary comprehension\n",
    "9. pratical example and comon error\n"
   ]
  },
  {
   "cell_type": "markdown",
   "metadata": {},
   "source": [
    "intro to dict\n",
    "\n",
    "dictionary are unordered collections of items. they store data in key-value pairs. keys must be unique and immutable (eg;strings, numbers,or tuples), while values can be of any type.\n"
   ]
  },
  {
   "cell_type": "code",
   "execution_count": 1,
   "metadata": {},
   "outputs": [
    {
     "name": "stdout",
     "output_type": "stream",
     "text": [
      "<class 'dict'>\n"
     ]
    }
   ],
   "source": [
    "## creating a dictionary\n",
    "\n",
    "empty_dic = {}\n",
    "print(type(empty_dic))"
   ]
  },
  {
   "cell_type": "code",
   "execution_count": 2,
   "metadata": {},
   "outputs": [
    {
     "data": {
      "text/plain": [
       "{}"
      ]
     },
     "execution_count": 2,
     "metadata": {},
     "output_type": "execute_result"
    }
   ],
   "source": [
    "empty_dic = dict()\n",
    "empty_dic"
   ]
  },
  {
   "cell_type": "code",
   "execution_count": 4,
   "metadata": {},
   "outputs": [
    {
     "name": "stdout",
     "output_type": "stream",
     "text": [
      "{'name': 'pranav', 'age': 24, 'grade': 24}\n",
      "<class 'dict'>\n"
     ]
    }
   ],
   "source": [
    "student={\"name\":\"pranav\",\"age\":24,\"grade\":24}\n",
    "print(student)\n",
    "\n",
    "print(type(student))"
   ]
  },
  {
   "cell_type": "code",
   "execution_count": 5,
   "metadata": {},
   "outputs": [
    {
     "name": "stdout",
     "output_type": "stream",
     "text": [
      "{'name': 24, 'age': 24}\n"
     ]
    }
   ],
   "source": [
    "# single key is always used\n",
    "\n",
    "student={\"name\":\"pranav\",\"age\":24,\"name\":24}\n",
    "print(student)\n"
   ]
  },
  {
   "cell_type": "code",
   "execution_count": 6,
   "metadata": {},
   "outputs": [
    {
     "name": "stdout",
     "output_type": "stream",
     "text": [
      "{'name': 'pranav', 'age': 24, 'grade': 'A'}\n"
     ]
    }
   ],
   "source": [
    "## accessing dic element\n",
    "student={\"name\":\"pranav\",\"age\":24,\"grade\":'A'}\n",
    "print(student)"
   ]
  },
  {
   "cell_type": "code",
   "execution_count": 12,
   "metadata": {},
   "outputs": [
    {
     "name": "stdout",
     "output_type": "stream",
     "text": [
      "A\n",
      "pranav\n",
      "A\n",
      "None\n",
      "Not available\n"
     ]
    }
   ],
   "source": [
    "print(student['grade'])\n",
    "print(student['name'])\n",
    "\n",
    "## accessing using get() method\n",
    "\n",
    "print(student.get('grade'))\n",
    "print(student.get('last_name'))\n",
    "print(student.get('last_name',\"Not available\"))"
   ]
  },
  {
   "cell_type": "code",
   "execution_count": 13,
   "metadata": {},
   "outputs": [
    {
     "name": "stdout",
     "output_type": "stream",
     "text": [
      "{'name': 'pranav', 'age': 24, 'grade': 'A'}\n"
     ]
    }
   ],
   "source": [
    "## modifying dic element\n",
    "## dict are mutuable - so you can add, update or delete elements\n",
    "\n",
    "print(student)"
   ]
  },
  {
   "cell_type": "code",
   "execution_count": 14,
   "metadata": {},
   "outputs": [
    {
     "name": "stdout",
     "output_type": "stream",
     "text": [
      "{'name': 'pranav', 'age': 33, 'grade': 'A'}\n",
      "{'name': 'pranav', 'age': 33, 'grade': 'A', 'last_name': 'Singh'}\n"
     ]
    }
   ],
   "source": [
    "student[\"age\"] = 33 ## updated\n",
    "print(student)\n",
    "student[\"last_name\"] = \"Singh\" ## added a new key and value\n",
    "print(student)\n",
    "\n"
   ]
  },
  {
   "cell_type": "code",
   "execution_count": 15,
   "metadata": {},
   "outputs": [
    {
     "name": "stdout",
     "output_type": "stream",
     "text": [
      "{'name': 'pranav', 'grade': 'A', 'last_name': 'Singh'}\n"
     ]
    }
   ],
   "source": [
    "del student['age'] ## delete the key and value pair\n",
    "print(student)\n"
   ]
  },
  {
   "cell_type": "code",
   "execution_count": 32,
   "metadata": {},
   "outputs": [
    {
     "name": "stdout",
     "output_type": "stream",
     "text": [
      "dict_keys(['name', 'grade', 'last_name'])\n",
      "dict_values(['pranav3', 'A', 'Singh'])\n",
      "dict_items([('name', 'pranav3'), ('grade', 'A'), ('last_name', 'Singh')])\n"
     ]
    }
   ],
   "source": [
    "## Dictionary methods \n",
    "\n",
    "keys=student.keys() ## all the keys\n",
    "print(keys)\n",
    "values = student.values() ## all the values\n",
    "print(values)\n",
    "\n",
    "items = student.items() ## all the items\n",
    "print(items)\n"
   ]
  },
  {
   "cell_type": "code",
   "execution_count": 24,
   "metadata": {},
   "outputs": [
    {
     "name": "stdout",
     "output_type": "stream",
     "text": [
      "{'name': 'pranav', 'grade': 'A', 'last_name': 'Singh'}\n",
      "{'name': 'pranav', 'grade': 'A', 'last_name': 'Singh'}\n"
     ]
    }
   ],
   "source": [
    "## shallow copy \n",
    "\n",
    "student_copy = student\n",
    "print(student)\n",
    "print(student_copy)"
   ]
  },
  {
   "cell_type": "code",
   "execution_count": 25,
   "metadata": {},
   "outputs": [
    {
     "name": "stdout",
     "output_type": "stream",
     "text": [
      "{'name': 'pranav1', 'grade': 'A', 'last_name': 'Singh'}\n",
      "{'name': 'pranav1', 'grade': 'A', 'last_name': 'Singh'}\n"
     ]
    }
   ],
   "source": [
    "student['name'] = \"pranav1\"\n",
    "\n",
    "print(student)\n",
    "print(student_copy)"
   ]
  },
  {
   "cell_type": "code",
   "execution_count": 26,
   "metadata": {},
   "outputs": [
    {
     "name": "stdout",
     "output_type": "stream",
     "text": [
      "{'name': 'pranav1', 'grade': 'A', 'last_name': 'Singh'}\n",
      "{'name': 'pranav1', 'grade': 'A', 'last_name': 'Singh'}\n"
     ]
    }
   ],
   "source": [
    "student_copy1=student.copy() # shallow copy\n",
    "# this will basically allocate a differnt memory - it will take this variable and it will give\n",
    "# references  of this variable to an another memory.\n",
    "\n",
    "print(student_copy1)\n",
    "print(student)"
   ]
  },
  {
   "cell_type": "code",
   "execution_count": 27,
   "metadata": {},
   "outputs": [
    {
     "name": "stdout",
     "output_type": "stream",
     "text": [
      "{'name': 'pranav1', 'grade': 'A', 'last_name': 'Singh'}\n",
      "{'name': 'pranav3', 'grade': 'A', 'last_name': 'Singh'}\n"
     ]
    }
   ],
   "source": [
    "student[\"name\"]= \"pranav3\"\n",
    "print(student_copy1)\n",
    "print(student)\n"
   ]
  },
  {
   "cell_type": "code",
   "execution_count": 33,
   "metadata": {},
   "outputs": [
    {
     "name": "stdout",
     "output_type": "stream",
     "text": [
      "name\n",
      "grade\n",
      "last_name\n"
     ]
    }
   ],
   "source": [
    "# iterating over dictonaries\n",
    "# you can use loops to iterate over dictonaries, keys , values, or items\n",
    "\n",
    "# iterating over keys\n",
    "\n",
    "for keys in student.keys():\n",
    "    print(keys)\n"
   ]
  },
  {
   "cell_type": "code",
   "execution_count": 37,
   "metadata": {},
   "outputs": [
    {
     "name": "stdout",
     "output_type": "stream",
     "text": [
      "pranav3\n",
      "A\n",
      "Singh\n"
     ]
    }
   ],
   "source": [
    "# iterating over values\n",
    "\n",
    "for values in student.values():\n",
    "    print(values)"
   ]
  },
  {
   "cell_type": "code",
   "execution_count": 40,
   "metadata": {},
   "outputs": [
    {
     "name": "stdout",
     "output_type": "stream",
     "text": [
      "name:pranav3\n",
      "grade:A\n",
      "last_name:Singh\n"
     ]
    }
   ],
   "source": [
    "# iterate over key value pairs\n",
    "\n",
    "for key,value in student.items():\n",
    "    print(f\"{key}:{value}\")"
   ]
  },
  {
   "cell_type": "code",
   "execution_count": 41,
   "metadata": {},
   "outputs": [
    {
     "name": "stdout",
     "output_type": "stream",
     "text": [
      "{'student1': {'name': 'Pranav', 'age': 32}, 'student2': {'name': 'Priya', 'age': 28}, 'student3': {'name': 'Rajesh', 'age': 29}}\n"
     ]
    }
   ],
   "source": [
    "# nested dictionary\n",
    "\n",
    "student={\n",
    "    \"student1\":{\"name\":\"Pranav\",\"age\":32},\n",
    "    \"student2\":{\"name\":\"Priya\",\"age\":28},\n",
    "    \"student3\":{\"name\":\"Rajesh\",\"age\":29}\n",
    "}\n",
    "\n",
    "print(student)"
   ]
  },
  {
   "cell_type": "code",
   "execution_count": 44,
   "metadata": {},
   "outputs": [
    {
     "data": {
      "text/plain": [
       "dict_items([('student1', {'name': 'Pranav', 'age': 32}), ('student2', {'name': 'Priya', 'age': 28}), ('student3', {'name': 'Rajesh', 'age': 29})])"
      ]
     },
     "execution_count": 44,
     "metadata": {},
     "output_type": "execute_result"
    }
   ],
   "source": [
    "student.items()"
   ]
  },
  {
   "cell_type": "code",
   "execution_count": 43,
   "metadata": {},
   "outputs": [
    {
     "name": "stdout",
     "output_type": "stream",
     "text": [
      "Priya\n",
      "Rajesh\n"
     ]
    }
   ],
   "source": [
    "# access nested dictionary\n",
    "\n",
    "print(student[\"student2\"][\"name\"])\n",
    "print(student[\"student3\"][\"name\"])"
   ]
  },
  {
   "cell_type": "code",
   "execution_count": 45,
   "metadata": {},
   "outputs": [
    {
     "name": "stdout",
     "output_type": "stream",
     "text": [
      "student1:{'name': 'Pranav', 'age': 32}\n",
      "name:Pranav\n",
      "age:32\n",
      "student2:{'name': 'Priya', 'age': 28}\n",
      "name:Priya\n",
      "age:28\n",
      "student3:{'name': 'Rajesh', 'age': 29}\n",
      "name:Rajesh\n",
      "age:29\n"
     ]
    }
   ],
   "source": [
    "# iterating over nested dictionary\n",
    "\n",
    "for student_id,student_info in student.items():\n",
    "    print(f\"{student_id}:{student_info}\")\n",
    "    for key,value in student_info.items():\n",
    "        print(f\"{key}:{value}\")\n"
   ]
  },
  {
   "cell_type": "code",
   "execution_count": 46,
   "metadata": {},
   "outputs": [
    {
     "name": "stdout",
     "output_type": "stream",
     "text": [
      "{0: 0, 1: 1, 2: 4, 3: 9, 4: 16}\n"
     ]
    }
   ],
   "source": [
    "# dictonary comprehension\n",
    "\n",
    "squares = {a:a**2 for a in range(5)}\n",
    "print(squares)"
   ]
  },
  {
   "cell_type": "code",
   "execution_count": 50,
   "metadata": {},
   "outputs": [
    {
     "name": "stdout",
     "output_type": "stream",
     "text": [
      "{0: 0, 2: 4, 4: 16, 6: 36, 8: 64}\n"
     ]
    }
   ],
   "source": [
    "# conditional dictonary comprehension\n",
    "\n",
    "even_square = {a:a**2 for a in range(10) if a%2==0}\n",
    "print(even_square)"
   ]
  },
  {
   "cell_type": "code",
   "execution_count": 52,
   "metadata": {},
   "outputs": [
    {
     "name": "stdout",
     "output_type": "stream",
     "text": [
      "{1: 1, 2: 2, 3: 3, 4: 4}\n"
     ]
    }
   ],
   "source": [
    "# practical examples\n",
    "\n",
    "# use a dict to count the frequency of elements in list\n",
    "\n",
    "numbers =[1,2,2,3,3,3,4,4,4,4]\n",
    "\n",
    "frequency = {}\n",
    "\n",
    "for num in numbers:\n",
    "    if num in frequency:\n",
    "        frequency[num]+=1\n",
    "    else:\n",
    "        frequency[num]=1\n",
    "\n",
    "print(frequency)\n",
    "        \n"
   ]
  },
  {
   "cell_type": "code",
   "execution_count": 53,
   "metadata": {},
   "outputs": [
    {
     "name": "stdout",
     "output_type": "stream",
     "text": [
      "{'name': 'pranav', 'age': 24, 'grade': 'A', 'last_name': 'Singh'}\n"
     ]
    }
   ],
   "source": [
    "# merge 2 dic into one \n",
    "\n",
    "dic1 = {\"name\":\"pranav\",\"age\":24}\n",
    "dic2 = {\"grade\":'A',\"last_name\":\"Singh\"}\n",
    "\n",
    "merged_dic = {**dic1,**dic2}\n",
    "\n",
    "print(merged_dic)\n"
   ]
  },
  {
   "cell_type": "code",
   "execution_count": null,
   "metadata": {},
   "outputs": [],
   "source": []
  },
  {
   "cell_type": "code",
   "execution_count": null,
   "metadata": {},
   "outputs": [],
   "source": []
  },
  {
   "cell_type": "code",
   "execution_count": null,
   "metadata": {},
   "outputs": [],
   "source": []
  },
  {
   "cell_type": "code",
   "execution_count": null,
   "metadata": {},
   "outputs": [],
   "source": []
  },
  {
   "cell_type": "code",
   "execution_count": null,
   "metadata": {},
   "outputs": [],
   "source": []
  },
  {
   "cell_type": "code",
   "execution_count": null,
   "metadata": {},
   "outputs": [],
   "source": []
  },
  {
   "cell_type": "code",
   "execution_count": null,
   "metadata": {},
   "outputs": [],
   "source": []
  },
  {
   "cell_type": "code",
   "execution_count": null,
   "metadata": {},
   "outputs": [],
   "source": []
  },
  {
   "cell_type": "code",
   "execution_count": null,
   "metadata": {},
   "outputs": [],
   "source": []
  },
  {
   "cell_type": "code",
   "execution_count": null,
   "metadata": {},
   "outputs": [],
   "source": []
  },
  {
   "cell_type": "code",
   "execution_count": null,
   "metadata": {},
   "outputs": [],
   "source": []
  },
  {
   "cell_type": "code",
   "execution_count": null,
   "metadata": {},
   "outputs": [],
   "source": []
  },
  {
   "cell_type": "code",
   "execution_count": null,
   "metadata": {},
   "outputs": [],
   "source": []
  },
  {
   "cell_type": "code",
   "execution_count": null,
   "metadata": {},
   "outputs": [],
   "source": []
  },
  {
   "cell_type": "code",
   "execution_count": null,
   "metadata": {},
   "outputs": [],
   "source": []
  },
  {
   "cell_type": "code",
   "execution_count": null,
   "metadata": {},
   "outputs": [],
   "source": []
  }
 ],
 "metadata": {
  "kernelspec": {
   "display_name": "venv",
   "language": "python",
   "name": "python3"
  },
  "language_info": {
   "codemirror_mode": {
    "name": "ipython",
    "version": 3
   },
   "file_extension": ".py",
   "mimetype": "text/x-python",
   "name": "python",
   "nbconvert_exporter": "python",
   "pygments_lexer": "ipython3",
   "version": "3.12.0"
  }
 },
 "nbformat": 4,
 "nbformat_minor": 2
}
