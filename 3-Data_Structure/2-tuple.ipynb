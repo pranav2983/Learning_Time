{
 "cells": [
  {
   "cell_type": "markdown",
   "metadata": {},
   "source": [
    "tuples\n",
    "\n",
    "1. intro to tuplpe.\n",
    "2. creating tuple.\n",
    "3. accessing tuple elements.\n",
    "4. tuple operations.\n",
    "5. immutable nature of tuple.\n",
    "6. tuple methods.\n",
    "7. packing and unpacking tuple.\n",
    "8. nested tuple.\n",
    "9. practical exmaples and common types.\n",
    "\n"
   ]
  },
  {
   "cell_type": "markdown",
   "metadata": {},
   "source": [
    "what is tuple\n",
    "\n",
    "tuple are ordered collection of items that are immutable. they are similar to lists, but their immutability makes them different.\n"
   ]
  },
  {
   "cell_type": "code",
   "execution_count": 10,
   "metadata": {},
   "outputs": [
    {
     "name": "stdout",
     "output_type": "stream",
     "text": [
      "()\n",
      "<class 'tuple'>\n"
     ]
    }
   ],
   "source": [
    "## creating a tuple\n",
    "\n",
    "empty_tuple =()\n",
    "print(empty_tuple)\n",
    "\n",
    "print(type(empty_tuple))\n",
    "\n"
   ]
  },
  {
   "cell_type": "code",
   "execution_count": 11,
   "metadata": {},
   "outputs": [
    {
     "name": "stdout",
     "output_type": "stream",
     "text": [
      "<class 'list'>\n",
      "<class 'tuple'>\n"
     ]
    }
   ],
   "source": [
    "lst = list()\n",
    "print(type(lst))\n",
    "tpl = tuple()\n",
    "print(type(tpl))"
   ]
  },
  {
   "cell_type": "code",
   "execution_count": 54,
   "metadata": {},
   "outputs": [
    {
     "name": "stdout",
     "output_type": "stream",
     "text": [
      "(1, 2, 3)\n"
     ]
    }
   ],
   "source": [
    "numbers = tuple([1,2,3])  # type conversion\n",
    "print(numbers)\n",
    "\n",
    "## list can be converted into a tuple and vise versa\n"
   ]
  },
  {
   "cell_type": "code",
   "execution_count": 86,
   "metadata": {},
   "outputs": [
    {
     "data": {
      "text/plain": [
       "[1, 2, 3]"
      ]
     },
     "execution_count": 86,
     "metadata": {},
     "output_type": "execute_result"
    }
   ],
   "source": [
    "num=[1,2,3]\n",
    "\n",
    "num"
   ]
  },
  {
   "cell_type": "code",
   "execution_count": 16,
   "metadata": {},
   "outputs": [
    {
     "name": "stdout",
     "output_type": "stream",
     "text": [
      "(1, 'hell0', 3.12, True)\n"
     ]
    }
   ],
   "source": [
    "## mixed tuple \n",
    "\n",
    "mixed_tuple = (1, \"hell0\", 3.12, True)\n",
    "print(mixed_tuple)"
   ]
  },
  {
   "cell_type": "code",
   "execution_count": 17,
   "metadata": {},
   "outputs": [
    {
     "data": {
      "text/plain": [
       "[1, 2, 3]"
      ]
     },
     "execution_count": 17,
     "metadata": {},
     "output_type": "execute_result"
    }
   ],
   "source": [
    "## accessing a tuple element\n",
    "num"
   ]
  },
  {
   "cell_type": "code",
   "execution_count": 19,
   "metadata": {},
   "outputs": [
    {
     "name": "stdout",
     "output_type": "stream",
     "text": [
      "2\n"
     ]
    }
   ],
   "source": [
    "print(num[1])"
   ]
  },
  {
   "cell_type": "code",
   "execution_count": 20,
   "metadata": {},
   "outputs": [
    {
     "data": {
      "text/plain": [
       "[1, 2, 3]"
      ]
     },
     "execution_count": 20,
     "metadata": {},
     "output_type": "execute_result"
    }
   ],
   "source": [
    "num[0:3]"
   ]
  },
  {
   "cell_type": "code",
   "execution_count": 21,
   "metadata": {},
   "outputs": [
    {
     "data": {
      "text/plain": [
       "[3, 2, 1]"
      ]
     },
     "execution_count": 21,
     "metadata": {},
     "output_type": "execute_result"
    }
   ],
   "source": [
    "num[::-1]"
   ]
  },
  {
   "cell_type": "code",
   "execution_count": 35,
   "metadata": {},
   "outputs": [
    {
     "name": "stdout",
     "output_type": "stream",
     "text": [
      "(1, 2, 3, 1, 'hell0', 3.12, True)\n"
     ]
    }
   ],
   "source": [
    "concatenation_tuple = num + mixed_tuple\n",
    "\n",
    "print(concatenation_tuple)\n",
    "\n",
    "## only concatenate list to list or tuple to tuple."
   ]
  },
  {
   "cell_type": "code",
   "execution_count": 36,
   "metadata": {},
   "outputs": [
    {
     "data": {
      "text/plain": [
       "(1, 'hell0', 3.12, True, 1, 'hell0', 3.12, True, 1, 'hell0', 3.12, True)"
      ]
     },
     "execution_count": 36,
     "metadata": {},
     "output_type": "execute_result"
    }
   ],
   "source": [
    "mixed_tuple * 3\n"
   ]
  },
  {
   "cell_type": "code",
   "execution_count": 37,
   "metadata": {},
   "outputs": [
    {
     "data": {
      "text/plain": [
       "(1, 2, 3, 1, 2, 3, 1, 2, 3)"
      ]
     },
     "execution_count": 37,
     "metadata": {},
     "output_type": "execute_result"
    }
   ],
   "source": [
    "num * 3"
   ]
  },
  {
   "cell_type": "code",
   "execution_count": 40,
   "metadata": {},
   "outputs": [
    {
     "name": "stdout",
     "output_type": "stream",
     "text": [
      "[1, 12, 3, 4, 4, 5]\n",
      "[1, 'two', 3, 4, 4, 5]\n"
     ]
    }
   ],
   "source": [
    "## immutable nature of tuple\n",
    "## tuple are immutable meaning that their elements cannot be changed once assigned.\n",
    "\n",
    "# like in list we can change the value of element. like below example.\n",
    "\n",
    "lst = [1,12,3, 4,4,5 ]\n",
    "print(lst)\n",
    "    \n",
    "lst[1] = \"two\"\n",
    "\n",
    "print(lst)\n",
    "\n",
    "# that means list are mutuable\n",
    "\n"
   ]
  },
  {
   "cell_type": "code",
   "execution_count": 3,
   "metadata": {},
   "outputs": [
    {
     "ename": "NameError",
     "evalue": "name 'mixed_tuple' is not defined",
     "output_type": "error",
     "traceback": [
      "\u001b[0;31m---------------------------------------------------------------------------\u001b[0m",
      "\u001b[0;31mNameError\u001b[0m                                 Traceback (most recent call last)",
      "Cell \u001b[0;32mIn[3], line 1\u001b[0m\n\u001b[0;32m----> 1\u001b[0m \u001b[43mmixed_tuple\u001b[49m\n\u001b[1;32m      3\u001b[0m \u001b[38;5;66;03m# mixed_tuple[1] = 2 # we cannot change i.e immutable nature\u001b[39;00m\n\u001b[1;32m      5\u001b[0m \u001b[38;5;28mprint\u001b[39m(\u001b[38;5;28mtype\u001b[39m(mixed_tuple))\n",
      "\u001b[0;31mNameError\u001b[0m: name 'mixed_tuple' is not defined"
     ]
    }
   ],
   "source": [
    "mixed_tuple\n",
    "\n",
    "# mixed_tuple[1] = 2 # we cannot change i.e immutable nature\n",
    "\n",
    "print(type(mixed_tuple))\n",
    "\n",
    "print(mixed_tuple)\n",
    "\n",
    "mixed_tuple[2] = 4\n",
    "\n",
    "print(mixed_tuple)"
   ]
  },
  {
   "cell_type": "code",
   "execution_count": 2,
   "metadata": {},
   "outputs": [
    {
     "name": "stdout",
     "output_type": "stream",
     "text": [
      "<class 'tuple'>\n",
      "[1, 2, 3, 4, 5]\n"
     ]
    }
   ],
   "source": [
    "a = (1,2,3,4,5)\n",
    "\n",
    "print(type(a))\n",
    "print(list(a))\n",
    "\n"
   ]
  },
  {
   "cell_type": "code",
   "execution_count": 94,
   "metadata": {},
   "outputs": [
    {
     "name": "stdout",
     "output_type": "stream",
     "text": [
      "[1, 2, 3, 2]\n",
      "(1, 2, 3, 2)\n"
     ]
    }
   ],
   "source": [
    "c = [1,2,\"mein\", 2]\n",
    "\n",
    "type(c)\n",
    "\n",
    "c[2] = 3\n",
    "\n",
    "print(c)\n",
    "\n",
    "d = tuple(c)\n",
    "print(d)"
   ]
  },
  {
   "cell_type": "code",
   "execution_count": 1,
   "metadata": {},
   "outputs": [
    {
     "name": "stdout",
     "output_type": "stream",
     "text": [
      "[2, 3, 10]\n"
     ]
    }
   ],
   "source": [
    "tp = (2, 3, 10)\n",
    "\n",
    "type(tp)\n",
    "\n",
    "print(list(tp))"
   ]
  },
  {
   "cell_type": "code",
   "execution_count": 14,
   "metadata": {},
   "outputs": [
    {
     "name": "stdout",
     "output_type": "stream",
     "text": [
      "4\n",
      "2\n"
     ]
    }
   ],
   "source": [
    "## tuple methods\n",
    "\n",
    "numbers = (1,2,3,4,2,4,2,2,6)\n",
    "\n",
    "print(numbers.count(2))\n",
    "    \n",
    "print(numbers.index(3))\n",
    "\n"
   ]
  },
  {
   "cell_type": "code",
   "execution_count": 16,
   "metadata": {},
   "outputs": [
    {
     "name": "stdout",
     "output_type": "stream",
     "text": [
      "(1, 'hello', 3, 4.23)\n",
      "1\n",
      "hello\n",
      "3\n",
      "4.23\n"
     ]
    }
   ],
   "source": [
    "## packing and unpacking tuple\n",
    "\n",
    "#packing\n",
    "packed_tuple = 1,\"hello\", 3, 4.23\n",
    "\n",
    "print(packed_tuple)\n",
    "\n",
    "#unpacking\n",
    "a,b,c,d = packed_tuple\n",
    "\n",
    "print(a)\n",
    "print(b)\n",
    "print(c)\n",
    "print(d)"
   ]
  },
  {
   "cell_type": "code",
   "execution_count": 17,
   "metadata": {},
   "outputs": [
    {
     "name": "stdout",
     "output_type": "stream",
     "text": [
      "1\n",
      "[2, 3, 4, 5]\n",
      "6\n"
     ]
    }
   ],
   "source": [
    "## unpacking with *\n",
    "\n",
    "numbers_un = (1,2,3,4,5,6)\n",
    "first,*middle, last = numbers_un\n",
    "\n",
    "print(first)\n",
    "print(middle)\n",
    "print(last)\n"
   ]
  },
  {
   "cell_type": "code",
   "execution_count": 23,
   "metadata": {},
   "outputs": [
    {
     "data": {
      "text/plain": [
       "[1, 2, 3]"
      ]
     },
     "execution_count": 23,
     "metadata": {},
     "output_type": "execute_result"
    }
   ],
   "source": [
    "## nested tuple\n",
    "# nested list\n",
    "\n",
    "lst = [[1,2,3,4],[5,6,7,8],[1,\"hello\",2.34,\"c\"]]\n",
    "\n",
    "lst[0][0:3]"
   ]
  },
  {
   "cell_type": "code",
   "execution_count": 25,
   "metadata": {},
   "outputs": [
    {
     "data": {
      "text/plain": [
       "(1, 'hello', 2.34)"
      ]
     },
     "execution_count": 25,
     "metadata": {},
     "output_type": "execute_result"
    }
   ],
   "source": [
    "lst = [[1,2,3,4],[5,6,7,8],(1,\"hello\",2.34,\"c\")]\n",
    "\n",
    "lst[2][0:3]"
   ]
  },
  {
   "cell_type": "code",
   "execution_count": 34,
   "metadata": {},
   "outputs": [
    {
     "name": "stdout",
     "output_type": "stream",
     "text": [
      "(True, False)\n",
      "3\n"
     ]
    }
   ],
   "source": [
    "nested_tuple = ((1,2,3), (\"a\",\"b\",\"c\"), (True, False))\n",
    "\n",
    "\n",
    "# access the elements inside a tuple\n",
    "\n",
    "print(nested_tuple[2])\n",
    "print(nested_tuple[0][2])"
   ]
  },
  {
   "cell_type": "code",
   "execution_count": 35,
   "metadata": {},
   "outputs": [
    {
     "name": "stdout",
     "output_type": "stream",
     "text": [
      "1 2 3 \n",
      "a b c \n",
      "True False \n"
     ]
    }
   ],
   "source": [
    "## iterating over nested tuples\n",
    "\n",
    "for sub_tuple in nested_tuple:\n",
    "    for item in sub_tuple:\n",
    "        print(item, end=\" \")\n",
    "    print()"
   ]
  },
  {
   "cell_type": "markdown",
   "metadata": {},
   "source": [
    "## conclusion\n",
    "\n",
    "tuples are versatile and useful in many real-world scenarios where an immutable and ordered collection of items is required. they are commonly used in data structures, functions arguments and return values, and as dictionary keys. understanding how to leverage tuples effectively can improve the efficiency and readability of your python code."
   ]
  }
 ],
 "metadata": {
  "kernelspec": {
   "display_name": "venv",
   "language": "python",
   "name": "python3"
  },
  "language_info": {
   "codemirror_mode": {
    "name": "ipython",
    "version": 3
   },
   "file_extension": ".py",
   "mimetype": "text/x-python",
   "name": "python",
   "nbconvert_exporter": "python",
   "pygments_lexer": "ipython3",
   "version": "3.12.0"
  }
 },
 "nbformat": 4,
 "nbformat_minor": 2
}
