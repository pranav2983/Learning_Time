{
 "cells": [
  {
   "cell_type": "markdown",
   "metadata": {},
   "source": [
    "Real-world examples using lists in python\n",
    "\n",
    "lists are one of the most commonly used data structure in python, thanks to their versatility and ease of use.\n",
    "here are several practical examples that illustrate their use in real-world scenarios.\n",
    "\n",
    "\n",
    "Example 1- manage A To Do List\n",
    "- create a to do list to keep track of tasks.\n"
   ]
  },
  {
   "cell_type": "code",
   "execution_count": 4,
   "metadata": {},
   "outputs": [
    {
     "name": "stdout",
     "output_type": "stream",
     "text": [
      "dont forget to check your mails\n",
      "to do list remaining items\n",
      "- complete the ML module\n",
      "- eat something\n",
      "- watch one eposide of Saul\n",
      "- have dinner\n",
      "- checking my mails\n"
     ]
    }
   ],
   "source": [
    "to_do_list = [\"go to library\",\"complete the ML module\",\"eat something\"]\n",
    "\n",
    "## add some tasks\n",
    "to_do_list.append(\"watch one eposide of Saul\")\n",
    "to_do_list.append(\"have dinner\")\n",
    "to_do_list.append(\"checking my mails\")\n",
    "\n",
    "## remove some task\n",
    "to_do_list.remove(\"go to library\")\n",
    "\n",
    "if \"checking my mails\" in to_do_list:\n",
    "    print(\"dont forget to check your mails\")\n",
    "\n",
    "print(f\"to do list remaining items\")\n",
    "for task in to_do_list:\n",
    "    print(f\"- {task}\")\n",
    "\n",
    "\n",
    "\n"
   ]
  },
  {
   "cell_type": "markdown",
   "metadata": {},
   "source": [
    "Example 2 - Organizing student grades\n",
    "\n",
    "- create a list to store and calcalute average grades for students."
   ]
  },
  {
   "cell_type": "code",
   "execution_count": 13,
   "metadata": {},
   "outputs": [
    {
     "name": "stdout",
     "output_type": "stream",
     "text": [
      "Average Grades : 58.0\n",
      "highest grade: 98\n",
      "minimum grade: 28\n"
     ]
    }
   ],
   "source": [
    "# organize the grade\n",
    "\n",
    "grades= [75,98,28,38,29]\n",
    "\n",
    "# adding grade\n",
    "\n",
    "grades.append(80)\n",
    "\n",
    "# calculating average grade\n",
    "\n",
    "average_grade = sum(grades) / len(grades)\n",
    "print(f\"Average Grades : {average_grade}\")\n",
    "\n",
    "print(f\"highest grade: {max(grades)}\")\n",
    "print(f\"minimum grade: {min(grades)}\")\n",
    "\n"
   ]
  },
  {
   "cell_type": "markdown",
   "metadata": {},
   "source": [
    "Example-3 Managing an inventory\n",
    "\n",
    "- managing the inventory items in a store using list\n"
   ]
  },
  {
   "cell_type": "code",
   "execution_count": 16,
   "metadata": {},
   "outputs": [
    {
     "name": "stdout",
     "output_type": "stream",
     "text": [
      "orange are out of stock\n",
      "inventory List:\n",
      "- banana\n",
      "- apple\n",
      "- cherry\n",
      "- pineapple\n",
      "- strawberry\n"
     ]
    }
   ],
   "source": [
    "## managing the inventory\n",
    "\n",
    "inventory = [\"mango\",\"banana\",\"apple\",\"cherry\",\"pineapple\"]\n",
    "\n",
    "## adding some items\n",
    "inventory.append(\"strawberry\")\n",
    "\n",
    "# removing some item\n",
    "inventory.remove(\"mango\")\n",
    "\n",
    "# checking the items is in stock\n",
    "\n",
    "\n",
    "item =\"orange\"\n",
    "if \"orange\" in inventory:\n",
    "    print(f\"{item} is in stock\")\n",
    "else:\n",
    "    print(f\"{item} are out of stock\")\n",
    "\n",
    "print(f\"inventory List:\")\n",
    "for item in inventory:\n",
    "    print(f\"- {item}\")\n"
   ]
  },
  {
   "cell_type": "markdown",
   "metadata": {},
   "source": [
    "Example-4: Collecting User feedback \n",
    "\n",
    "- use a list to collect and analyze user feedback.\n"
   ]
  },
  {
   "cell_type": "code",
   "execution_count": 34,
   "metadata": {},
   "outputs": [
    {
     "name": "stdout",
     "output_type": "stream",
     "text": [
      "thanks for your feedback, we will try to improve our services\n",
      "Positive Feedback Count is: 2\n",
      "User Feedback:\n",
      "- good\n",
      "- very-good\n",
      "- bad\n",
      "- very-bad\n"
     ]
    }
   ],
   "source": [
    "# managing a list\n",
    "feedback_list =[\"good\",\"very-good\",\"bad\"]\n",
    " \n",
    "# adding some\n",
    "feedback_list.append(\"very-bad\")\n",
    "\n",
    "if \"very-bad\" in feedback_list:\n",
    "    print(f\"thanks for your feedback, we will try to improve our services\")\n",
    "else:\n",
    "    print(f\"thank you for your feedback, hope you would like it :) \")\n",
    "\n",
    "# counting positive feedback \n",
    "pos_feedback_count = sum(1 for comment in feedback_list if \"good\" in comment.lower() or \"very-good\" in comment.lower())\n",
    "print(f\"Positive Feedback Count is: {pos_feedback_count}\")\n",
    "\n",
    "print(f\"User Feedback:\")\n",
    "\n",
    "for comment in feedback_list:\n",
    "    print(f\"- {comment}\")"
   ]
  }
 ],
 "metadata": {
  "kernelspec": {
   "display_name": "venv",
   "language": "python",
   "name": "python3"
  },
  "language_info": {
   "codemirror_mode": {
    "name": "ipython",
    "version": 3
   },
   "file_extension": ".py",
   "mimetype": "text/x-python",
   "name": "python",
   "nbconvert_exporter": "python",
   "pygments_lexer": "ipython3",
   "version": "3.12.0"
  }
 },
 "nbformat": 4,
 "nbformat_minor": 2
}
