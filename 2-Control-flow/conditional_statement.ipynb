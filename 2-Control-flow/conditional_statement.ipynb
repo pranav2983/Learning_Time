{
 "cells": [
  {
   "cell_type": "markdown",
   "metadata": {},
   "source": [
    "Video Outline \n",
    "\n",
    "1. Intro \n",
    "2. if statement\n",
    "3. elif statement\n",
    "4. else statement\n",
    "5. Nested conditinal statement\n",
    "6. Practical exmaple\n",
    "7. common error and best practice\n",
    "\n",
    "\n"
   ]
  },
  {
   "cell_type": "code",
   "execution_count": 1,
   "metadata": {},
   "outputs": [
    {
     "name": "stdout",
     "output_type": "stream",
     "text": [
      "you are adult now \n"
     ]
    }
   ],
   "source": [
    "## if statement\n",
    "age = 20\n",
    "\n",
    "if age>= 18:\n",
    "    print(\"you are adult now \")"
   ]
  },
  {
   "cell_type": "code",
   "execution_count": 3,
   "metadata": {},
   "outputs": [
    {
     "name": "stdout",
     "output_type": "stream",
     "text": [
      "You are minor!\n"
     ]
    }
   ],
   "source": [
    "## else statement\n",
    "## the else statement executes a block of code if the cond. in the if statement is false\n",
    "\n",
    "age = 16\n",
    "\n",
    "if age>=18:\n",
    "    print(\"You are Adult now\")\n",
    "\n",
    "else:\n",
    "    print(\"You are minor!\")"
   ]
  },
  {
   "cell_type": "code",
   "execution_count": 4,
   "metadata": {},
   "outputs": [
    {
     "name": "stdout",
     "output_type": "stream",
     "text": [
      "You are adult\n"
     ]
    }
   ],
   "source": [
    "## elif statement\n",
    "## the elif statement allows you to check multiple conditions. it stands for \"else if\"\n",
    "\n",
    "age = 20\n",
    "\n",
    "if age<13:\n",
    "    print(\"You are child\")\n",
    "elif age<18:\n",
    "    print(\"You are a teenager\")\n",
    "else:\n",
    "    print(\"You are an adult\")\n"
   ]
  },
  {
   "cell_type": "code",
   "execution_count": 13,
   "metadata": {},
   "outputs": [
    {
     "name": "stdout",
     "output_type": "stream",
     "text": [
      "number is positive\n",
      "number is even\n"
     ]
    }
   ],
   "source": [
    "## nested conditional statements\n",
    "## you can place one or more if, elif ,or else statements inside another if , elif , or else statements inside\n",
    "\n",
    "\n",
    "## whether the number is even , odd, or negative \n",
    "\n",
    "num = int(input(\"enter the number\"))\n",
    "\n",
    "if num>0:\n",
    "    print(\"number is positive\")\n",
    "    if num%2==0:\n",
    "        print(\"number is even\")\n",
    "    else:\n",
    "        print(\"number is odd\")\n",
    "elif num<0:\n",
    "    print(\"number is negative\")\n",
    "else:\n",
    "    print(\"number is zero\")\n",
    "\n"
   ]
  },
  {
   "cell_type": "code",
   "execution_count": 27,
   "metadata": {},
   "outputs": [
    {
     "name": "stdout",
     "output_type": "stream",
     "text": [
      "2024 is a leap year\n"
     ]
    }
   ],
   "source": [
    "## practical examples\n",
    "\n",
    "## determine if a year is a leap year or not using nested conditional statement\n",
    "\n",
    "\n",
    "year = int(input(\"Enter the year you wish to\"))\n",
    "\n",
    "if (year%4==0):\n",
    "    if year%400==0:\n",
    "        if year%100 ==0:\n",
    "            print(year, \"year is a leap year\")\n",
    "        else:\n",
    "            print(year, \"is not leap year\")\n",
    "    else:\n",
    "        print(year, \"is a leap year\")\n",
    "else:\n",
    "    print(year, \"is not leap year\")\n",
    "\n"
   ]
  },
  {
   "cell_type": "code",
   "execution_count": null,
   "metadata": {},
   "outputs": [],
   "source": [
    "## assignment-1 \n",
    "## simple calculator usinf operation + - % / \n"
   ]
  },
  {
   "cell_type": "code",
   "execution_count": null,
   "metadata": {},
   "outputs": [],
   "source": [
    "## assignment-2\n",
    "## deterine the ticket price based on the age and whether the person is a student.\n",
    "\n"
   ]
  }
 ],
 "metadata": {
  "kernelspec": {
   "display_name": "venv",
   "language": "python",
   "name": "python3"
  },
  "language_info": {
   "codemirror_mode": {
    "name": "ipython",
    "version": 3
   },
   "file_extension": ".py",
   "mimetype": "text/x-python",
   "name": "python",
   "nbconvert_exporter": "python",
   "pygments_lexer": "ipython3",
   "version": "3.12.0"
  }
 },
 "nbformat": 4,
 "nbformat_minor": 2
}
