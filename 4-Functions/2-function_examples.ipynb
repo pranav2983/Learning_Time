{
 "cells": [
  {
   "cell_type": "markdown",
   "metadata": {},
   "source": [
    "Function Examples\n",
    "\n",
    "Example 1: Temperature Conversion\n",
    "\n"
   ]
  },
  {
   "cell_type": "code",
   "execution_count": 2,
   "metadata": {},
   "outputs": [
    {
     "name": "stdout",
     "output_type": "stream",
     "text": [
      "77.0\n"
     ]
    }
   ],
   "source": [
    "def convert_temp(temp, unit):\n",
    "    \"\"\"This function converts temp between celsius and fahrenheit\"\"\"\n",
    "    if unit == \"C\":\n",
    "        return ((temp * 9/5) + 32)\n",
    "    elif unit=='F':\n",
    "        return (temp-32)*5/9\n",
    "    else:\n",
    "        return None\n",
    "    \n",
    "print(convert_temp(25,'C'))\n",
    "\n"
   ]
  },
  {
   "cell_type": "markdown",
   "metadata": {},
   "source": [
    "Example 2 - Password strength checker"
   ]
  },
  {
   "cell_type": "code",
   "execution_count": 12,
   "metadata": {},
   "outputs": [
    {
     "name": "stdout",
     "output_type": "stream",
     "text": [
      "True\n",
      "False\n"
     ]
    }
   ],
   "source": [
    "\n",
    "\n",
    "def is_strong_pass(s):\n",
    "    if len(s) <= 8:\n",
    "        return False\n",
    "    elif not any(char.isdigit() for char in s):\n",
    "        return False\n",
    "    elif not any(char.islower() for char in s):\n",
    "        return False\n",
    "    elif not any(char.isupper() for char in s):\n",
    "        return False\n",
    "    elif not any(char in '!@#$%^&*()_+' for char in s):\n",
    "        return False\n",
    "    return True\n",
    "    \n",
    "# calling the function \n",
    "print(is_strong_pass(\"String@123\"))\n",
    "print(is_strong_pass(\"string@123\"))\n"
   ]
  },
  {
   "cell_type": "markdown",
   "metadata": {},
   "source": [
    "Example 3: Calculate the total cost of items in a shopping cart"
   ]
  },
  {
   "cell_type": "code",
   "execution_count": 25,
   "metadata": {},
   "outputs": [
    {
     "name": "stdout",
     "output_type": "stream",
     "text": [
      "3800\n"
     ]
    }
   ],
   "source": [
    "\n",
    "def calculate_total_cost(cart):\n",
    "    total_cost = 0\n",
    "    for item in cart:\n",
    "        total_cost += item['price']*item['quantity']\n",
    "    \n",
    "    return total_cost\n",
    "## let create a list having dictonaries.\n",
    "# cart data \n",
    "\n",
    "cart = [\n",
    "    {'person_name':'Pranav','food':'mango','quantity':12,'price':100},\n",
    "    {'person_name':'Avnish','food':'apple','quantity':10,'price':200},\n",
    "    {'person_name':'John','food':'banana','quantity':12,'price':50},\n",
    "\n",
    "]\n",
    "\n",
    "# call the functino \n",
    "total_cost = calculate_total_cost(cart)\n",
    "print(total_cost)"
   ]
  },
  {
   "cell_type": "markdown",
   "metadata": {},
   "source": [
    "Example 4: Check IF a string Is Palindrome"
   ]
  },
  {
   "cell_type": "code",
   "execution_count": 26,
   "metadata": {},
   "outputs": [
    {
     "name": "stdout",
     "output_type": "stream",
     "text": [
      "True\n",
      "True\n"
     ]
    }
   ],
   "source": [
    "\"noon\"\n",
    "\n",
    "def is_palindrome(s):\n",
    "    s=s.lower().replace(\" \", \"\")\n",
    "    return s == s[::-1]\n",
    "\n",
    "print(is_palindrome(\"A man a plan a canal Panama\"))\n",
    "print(is_palindrome(\"Noon\"))\n"
   ]
  },
  {
   "cell_type": "markdown",
   "metadata": {},
   "source": [
    "Example 5: Calculate the factorials of a number using recursion"
   ]
  },
  {
   "cell_type": "code",
   "execution_count": 27,
   "metadata": {},
   "outputs": [
    {
     "name": "stdout",
     "output_type": "stream",
     "text": [
      "120\n"
     ]
    }
   ],
   "source": [
    "# 5! = 5*4*3*2*1 \n",
    "# recursion \n",
    "\n",
    "\n",
    "def factorial(n):\n",
    "    if n==0:\n",
    "        return 1\n",
    "    \n",
    "    else:\n",
    "        return n*factorial(n-1)\n",
    "    \n",
    "print(factorial(5))"
   ]
  },
  {
   "cell_type": "markdown",
   "metadata": {},
   "source": [
    "Example 6: A function to read a file and count the frequency of each word\n"
   ]
  },
  {
   "cell_type": "code",
   "execution_count": 28,
   "metadata": {},
   "outputs": [
    {
     "name": "stdout",
     "output_type": "stream",
     "text": [
      "{'generative': 1, 'ai': 1, 'developer': 2, 'with': 1, 'having': 1, '2+': 1, 'years': 1, 'of': 1, 'experience': 1, 'also': 1, 'a': 1}\n"
     ]
    }
   ],
   "source": [
    "def count_word_frequecy(file_path):\n",
    "    count_word = {}\n",
    "    with open(file_path,'r') as file:\n",
    "        for line in file:\n",
    "            words = line.split()\n",
    "            for word in words:\n",
    "                word=word.lower().strip(',.?/:;\"\\'')\n",
    "                count_word[word] = count_word.get(word,0) + 1\n",
    "\n",
    "    return count_word\n",
    "\n",
    "filepath=\"sample.txt\"\n",
    "word_frequecy=count_word_frequecy(filepath)\n",
    "print(word_frequecy)\n",
    "\n",
    "            \n",
    "\n",
    "\n"
   ]
  },
  {
   "cell_type": "markdown",
   "metadata": {},
   "source": [
    "Example 7 : validate email address"
   ]
  },
  {
   "cell_type": "code",
   "execution_count": 31,
   "metadata": {},
   "outputs": [
    {
     "name": "stdout",
     "output_type": "stream",
     "text": [
      "True\n",
      "False\n"
     ]
    }
   ],
   "source": [
    "import re\n",
    "\n",
    "def is_valid_email(email):\n",
    "    \"\"\"This function is used to check if the email is valid or not\"\"\"\n",
    "    pattern = r'^[a-zA-Z0-9_.+-]+@[a-zA-Z0-9-]+\\.[a-zA-Z0-9-.]+$'\n",
    "    return re.match(pattern, email) is not None\n",
    "\n",
    "# calling \n",
    "print(is_valid_email(\"test123@gmail.com\"))\n",
    "print(is_valid_email(\"test125t\"))\n"
   ]
  }
 ],
 "metadata": {
  "kernelspec": {
   "display_name": "venv",
   "language": "python",
   "name": "python3"
  },
  "language_info": {
   "codemirror_mode": {
    "name": "ipython",
    "version": 3
   },
   "file_extension": ".py",
   "mimetype": "text/x-python",
   "name": "python",
   "nbconvert_exporter": "python",
   "pygments_lexer": "ipython3",
   "version": "3.12.0"
  }
 },
 "nbformat": 4,
 "nbformat_minor": 2
}
