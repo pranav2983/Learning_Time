{
 "cells": [
  {
   "cell_type": "code",
   "execution_count": 3,
   "metadata": {},
   "outputs": [
    {
     "name": "stdout",
     "output_type": "stream",
     "text": [
      "age : 24\n",
      "height : 5.9\n",
      "name : Pranav\n"
     ]
    }
   ],
   "source": [
    "## Declaration and assigning variables\n",
    "\n",
    "age = 24\n",
    "height = 5.9\n",
    "name=\"Pranav\"\n",
    "is_student = True\n",
    "\n",
    "## printing the variables\n",
    "\n",
    "print(\"age :\", age)\n",
    "print(\"height :\", height)\n",
    "print(\"name :\", name)\n",
    "\n",
    "\n"
   ]
  },
  {
   "cell_type": "code",
   "execution_count": 1,
   "metadata": {},
   "outputs": [],
   "source": [
    "a = 110"
   ]
  },
  {
   "cell_type": "markdown",
   "metadata": {},
   "source": [
    "Video Outline - \n",
    "\n",
    "1. Introduction to Variable\n",
    "2. Declaration and Assigning Variables\n",
    "3. Naming Conventions\n",
    "4. Understanding Variables types\n",
    "5. Type checking and conversions\n",
    "6. Dynamic typing\n",
    "7. Practical Example and Common Errors."
   ]
  },
  {
   "cell_type": "code",
   "execution_count": 4,
   "metadata": {},
   "outputs": [],
   "source": [
    "## naming conventions\n",
    "## variable name should be descriptive\n",
    "## they must start with a letter or an '_' and a letter, number and underscore\n",
    "## variable names are case sensitive\n",
    "\n",
    "\n",
    "## valid variables names\n",
    "\n",
    "first_name = \"Pranav\"\n",
    "last_name = \"Singh\"\n",
    "\n"
   ]
  },
  {
   "cell_type": "code",
   "execution_count": 6,
   "metadata": {},
   "outputs": [],
   "source": [
    "## invalid variables names\n",
    "##2first = \"Pranav\"\n",
    "##@name=\"Pranav\"\n",
    "##first-name = \"Pranav\""
   ]
  },
  {
   "cell_type": "code",
   "execution_count": 7,
   "metadata": {},
   "outputs": [
    {
     "data": {
      "text/plain": [
       "False"
      ]
     },
     "execution_count": 7,
     "metadata": {},
     "output_type": "execute_result"
    }
   ],
   "source": [
    "##case sensitivity\n",
    "\n",
    "name=\"pranav\"\n",
    "Name=\"singh\"\n",
    "\n",
    "name==Name"
   ]
  },
  {
   "cell_type": "code",
   "execution_count": 11,
   "metadata": {},
   "outputs": [
    {
     "name": "stdout",
     "output_type": "stream",
     "text": [
      "<class 'str'>\n"
     ]
    }
   ],
   "source": [
    "##understanding variables types\n",
    "## python is dyanmically typed, meanns type of a variable is determined at runtime.\n",
    "\n",
    "age=24 # int\n",
    "height=5.9 #float\n",
    "name=\"Pranav\" # string\n",
    "is_student=True #bool\n",
    "\n",
    "print(type(name))"
   ]
  },
  {
   "cell_type": "code",
   "execution_count": 10,
   "metadata": {},
   "outputs": [
    {
     "data": {
      "text/plain": [
       "float"
      ]
     },
     "execution_count": 10,
     "metadata": {},
     "output_type": "execute_result"
    }
   ],
   "source": [
    "## type checking and cnversion\n",
    "\n",
    "type(height)    "
   ]
  },
  {
   "cell_type": "code",
   "execution_count": 14,
   "metadata": {},
   "outputs": [
    {
     "name": "stdout",
     "output_type": "stream",
     "text": [
      "<class 'str'>\n"
     ]
    }
   ],
   "source": [
    "age=25\n",
    "age_str=str(age)\n",
    "print(type(age_str))"
   ]
  },
  {
   "cell_type": "code",
   "execution_count": 15,
   "metadata": {},
   "outputs": [
    {
     "name": "stdout",
     "output_type": "stream",
     "text": [
      "<class 'int'>\n"
     ]
    }
   ],
   "source": [
    "age='25'\n",
    "\n",
    "print(type(int(age)))"
   ]
  },
  {
   "cell_type": "code",
   "execution_count": 19,
   "metadata": {},
   "outputs": [
    {
     "ename": "ValueError",
     "evalue": "invalid literal for int() with base 10: 'Pranav'",
     "output_type": "error",
     "traceback": [
      "\u001b[0;31m---------------------------------------------------------------------------\u001b[0m",
      "\u001b[0;31mValueError\u001b[0m                                Traceback (most recent call last)",
      "Cell \u001b[0;32mIn[19], line 3\u001b[0m\n\u001b[1;32m      1\u001b[0m name\u001b[38;5;241m=\u001b[39m\u001b[38;5;124m\"\u001b[39m\u001b[38;5;124mPranav\u001b[39m\u001b[38;5;124m\"\u001b[39m \u001b[38;5;66;03m## because Pranav is a complete sentence and can not convert this into a string\u001b[39;00m\n\u001b[0;32m----> 3\u001b[0m \u001b[38;5;28mprint\u001b[39m(\u001b[38;5;28mtype\u001b[39m(\u001b[38;5;28;43mint\u001b[39;49m\u001b[43m(\u001b[49m\u001b[43mname\u001b[49m\u001b[43m)\u001b[49m))\n",
      "\u001b[0;31mValueError\u001b[0m: invalid literal for int() with base 10: 'Pranav'"
     ]
    }
   ],
   "source": [
    "name=\"Pranav\" ## because Pranav is a complete sentence and can not convert this into a string\n",
    "\n",
    "print(type(int(name)))"
   ]
  },
  {
   "cell_type": "code",
   "execution_count": 27,
   "metadata": {},
   "outputs": [
    {
     "name": "stdout",
     "output_type": "stream",
     "text": [
      "5\n"
     ]
    }
   ],
   "source": [
    "height=5.9\n",
    "\n",
    "print(int(height)) "
   ]
  },
  {
   "cell_type": "code",
   "execution_count": 28,
   "metadata": {},
   "outputs": [
    {
     "name": "stdout",
     "output_type": "stream",
     "text": [
      "5.9\n"
     ]
    }
   ],
   "source": [
    "print(float(height))"
   ]
  },
  {
   "cell_type": "code",
   "execution_count": 29,
   "metadata": {},
   "outputs": [
    {
     "name": "stdout",
     "output_type": "stream",
     "text": [
      "23 <class 'int'>\n",
      "pranav <class 'str'>\n",
      "5.9 <class 'float'>\n"
     ]
    }
   ],
   "source": [
    "## dynamic typing\n",
    "##python allows the type of a variable to change as the program executes\n",
    "\n",
    "age=23\n",
    "print(age, type(age))\n",
    "\n",
    "name=\"pranav\"\n",
    "print(name, type(name))\n",
    "\n",
    "height=5.9\n",
    "print(height, type(height))\n"
   ]
  },
  {
   "cell_type": "code",
   "execution_count": 32,
   "metadata": {},
   "outputs": [
    {
     "name": "stdout",
     "output_type": "stream",
     "text": [
      "24 <class 'int'>\n"
     ]
    }
   ],
   "source": [
    "## input\n",
    "age=int(input(\"tell me about your age\"))\n",
    "print(age,type(age))"
   ]
  },
  {
   "cell_type": "code",
   "execution_count": 34,
   "metadata": {},
   "outputs": [
    {
     "name": "stdout",
     "output_type": "stream",
     "text": [
      "addition : 20.0\n",
      "subtraction : 0.0\n",
      "divide : 1.0\n",
      "multiply : 100.0\n"
     ]
    }
   ],
   "source": [
    "## simple calculator\n",
    "\n",
    "\n",
    "num1 = float(input(\"enter the first number\"))\n",
    "num2 = float(input(\"enter the second number\"))\n",
    "\n",
    "add = num1 + num2\n",
    "substract = num1 - num2\n",
    "multiply = num1 * num2\n",
    "divide = num1 / num2\n",
    "\n",
    "print(\"addition :\", add)\n",
    "print(\"subtraction :\", substract)\n",
    "print(\"divide :\", divide)\n",
    "print(\"multiply :\", multiply)\n"
   ]
  }
 ],
 "metadata": {
  "kernelspec": {
   "display_name": "venv",
   "language": "python",
   "name": "python3"
  },
  "language_info": {
   "codemirror_mode": {
    "name": "ipython",
    "version": 3
   },
   "file_extension": ".py",
   "mimetype": "text/x-python",
   "name": "python",
   "nbconvert_exporter": "python",
   "pygments_lexer": "ipython3",
   "version": "3.12.0"
  }
 },
 "nbformat": 4,
 "nbformat_minor": 2
}
