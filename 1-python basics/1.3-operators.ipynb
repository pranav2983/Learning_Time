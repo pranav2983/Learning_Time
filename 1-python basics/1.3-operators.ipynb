{
 "cells": [
  {
   "cell_type": "markdown",
   "metadata": {},
   "source": [
    "File outline\n",
    "\n",
    "1. Introduction to operators\n",
    "2. Arithmetic operators\n",
    "   - Addition (+)\n",
    "   - Subtraction (-)\n",
    "   - Multiplication (*)\n",
    "   - Division (/)\n",
    "   - Floor division (//)\n",
    "   - Exponentiation (**)\n",
    "   - Modulus or Remainder (%)\n",
    "\n",
    "3. Comparison operators\n",
    "   - Equality (==)\n",
    "   - Inequality (!=)\n",
    "   - Greater than (>)\n",
    "   - Greater than or equal to (>=)\n",
    "   - Less than (<)\n",
    "   - Less than or equal to (<=)\n",
    "   - Identity (is)\n",
    "   - Non-identity (is not)\n",
    "\n",
    "4. Logical operators\n",
    "   - AND (and)\n",
    "   - OR (or)\n",
    "   - NOT (not)\n",
    "\n",
    "5. Practical Examples and Common Errors"
   ]
  },
  {
   "cell_type": "code",
   "execution_count": 7,
   "metadata": {},
   "outputs": [
    {
     "name": "stdout",
     "output_type": "stream",
     "text": [
      "12 8 20 5.0 5 0 100\n"
     ]
    }
   ],
   "source": [
    "## Arithmetic operations\n",
    "\n",
    "a = 10\n",
    "b = 2\n",
    "\n",
    "add = a+b\n",
    "sub = a-b\n",
    "mul = a*b\n",
    "div = a/b\n",
    "floor_div = a//b\n",
    "modolus_res = a%b \n",
    "\n",
    "exponent_res = a**b\n",
    "\n",
    "\n",
    "print(add, sub, mul, div, floor_div, modolus_res, exponent_res)\n"
   ]
  },
  {
   "cell_type": "code",
   "execution_count": 10,
   "metadata": {},
   "outputs": [
    {
     "data": {
      "text/plain": [
       "3.3333333333333335"
      ]
     },
     "execution_count": 10,
     "metadata": {},
     "output_type": "execute_result"
    }
   ],
   "source": [
    "10/3"
   ]
  },
  {
   "cell_type": "code",
   "execution_count": 11,
   "metadata": {},
   "outputs": [
    {
     "data": {
      "text/plain": [
       "3"
      ]
     },
     "execution_count": 11,
     "metadata": {},
     "output_type": "execute_result"
    }
   ],
   "source": [
    "10//3"
   ]
  },
  {
   "cell_type": "code",
   "execution_count": 13,
   "metadata": {},
   "outputs": [
    {
     "name": "stdout",
     "output_type": "stream",
     "text": [
      "True\n"
     ]
    }
   ],
   "source": [
    "## comparison operators\n",
    "## ==  equal to operator\n",
    "a = 10\n",
    "b = 10\n",
    "\n",
    "print(a == b)\n",
    "\n"
   ]
  },
  {
   "cell_type": "code",
   "execution_count": 16,
   "metadata": {},
   "outputs": [
    {
     "data": {
      "text/plain": [
       "True"
      ]
     },
     "execution_count": 16,
     "metadata": {},
     "output_type": "execute_result"
    }
   ],
   "source": [
    "str1 = \"pranav\"\n",
    "str2 = \"pranav\"\n",
    "\n",
    "str1==str2"
   ]
  },
  {
   "cell_type": "code",
   "execution_count": 17,
   "metadata": {},
   "outputs": [
    {
     "data": {
      "text/plain": [
       "False"
      ]
     },
     "execution_count": 17,
     "metadata": {},
     "output_type": "execute_result"
    }
   ],
   "source": [
    "## not equal to operator\n",
    "\n",
    "str1 != str2"
   ]
  },
  {
   "cell_type": "code",
   "execution_count": 18,
   "metadata": {},
   "outputs": [
    {
     "data": {
      "text/plain": [
       "True"
      ]
     },
     "execution_count": 18,
     "metadata": {},
     "output_type": "execute_result"
    }
   ],
   "source": [
    "str3 = \"pranav\"\n",
    "str4 = \"Pranav\"\n",
    "\n",
    "str3 != str4"
   ]
  },
  {
   "cell_type": "code",
   "execution_count": 20,
   "metadata": {},
   "outputs": [
    {
     "data": {
      "text/plain": [
       "True"
      ]
     },
     "execution_count": 20,
     "metadata": {},
     "output_type": "execute_result"
    }
   ],
   "source": [
    "## greater than operator\n",
    "\n",
    "a = 45\n",
    "b = 55\n",
    "\n",
    "a<b"
   ]
  },
  {
   "cell_type": "code",
   "execution_count": 21,
   "metadata": {},
   "outputs": [
    {
     "data": {
      "text/plain": [
       "False"
      ]
     },
     "execution_count": 21,
     "metadata": {},
     "output_type": "execute_result"
    }
   ],
   "source": [
    "## less than operator\n",
    "\n",
    "a = 10\n",
    "b = 20\n",
    "\n",
    "b<a"
   ]
  },
  {
   "cell_type": "code",
   "execution_count": 26,
   "metadata": {},
   "outputs": [
    {
     "data": {
      "text/plain": [
       "False"
      ]
     },
     "execution_count": 26,
     "metadata": {},
     "output_type": "execute_result"
    }
   ],
   "source": [
    "## greater than or equal to operator\n",
    "\n",
    "number1 = 42\n",
    "number2 = 45\n",
    "\n",
    "number1>=number2\n",
    "\n"
   ]
  },
  {
   "cell_type": "code",
   "execution_count": 27,
   "metadata": {},
   "outputs": [
    {
     "data": {
      "text/plain": [
       "True"
      ]
     },
     "execution_count": 27,
     "metadata": {},
     "output_type": "execute_result"
    }
   ],
   "source": [
    "## less than or equal to\n",
    "\n",
    "number1<=number2"
   ]
  },
  {
   "cell_type": "code",
   "execution_count": 4,
   "metadata": {},
   "outputs": [
    {
     "name": "stdout",
     "output_type": "stream",
     "text": [
      "True\n"
     ]
    }
   ],
   "source": [
    "## logical operator\n",
    "## AND , OR , NOT\n",
    "\n",
    "a = True\n",
    "b = True\n",
    "\n",
    "print((a and b))"
   ]
  },
  {
   "cell_type": "code",
   "execution_count": 36,
   "metadata": {},
   "outputs": [
    {
     "name": "stdout",
     "output_type": "stream",
     "text": [
      "False\n"
     ]
    }
   ],
   "source": [
    "a = True\n",
    "b = False\n",
    "\n",
    "print((a and b))"
   ]
  },
  {
   "cell_type": "code",
   "execution_count": 6,
   "metadata": {},
   "outputs": [
    {
     "name": "stdout",
     "output_type": "stream",
     "text": [
      "True\n"
     ]
    }
   ],
   "source": [
    "## or logical operator\n",
    "a = False\n",
    "b = True\n",
    "\n",
    "print((a or b))"
   ]
  },
  {
   "cell_type": "code",
   "execution_count": 39,
   "metadata": {},
   "outputs": [
    {
     "name": "stdout",
     "output_type": "stream",
     "text": [
      "False\n"
     ]
    }
   ],
   "source": [
    "## not logical operator\n",
    "\n",
    "a = True\n",
    "\n",
    "print(not a)"
   ]
  },
  {
   "cell_type": "code",
   "execution_count": 40,
   "metadata": {},
   "outputs": [
    {
     "name": "stdout",
     "output_type": "stream",
     "text": [
      "Addition :  12.0\n",
      "Subtraction :  8.0\n",
      "Multiplication :  20.0\n",
      "Division :  5.0\n",
      "Floor Division :  5.0\n",
      "Modulus :  0.0\n",
      "Exponentiation :  100.0\n"
     ]
    }
   ],
   "source": [
    "## simple calculator\n",
    "\n",
    "num1 = float(input(\"Enter your first number \"))\n",
    "num2 = float(input(\"Enter your second number \"))\n",
    "\n",
    "add = num1 + num2\n",
    "sub = num1 - num2\n",
    "mul = num1 * num2\n",
    "div = num1 / num2\n",
    "floor_div = num1 // num2\n",
    "modolus_res = num1 % num2\n",
    "exponent_res = num1 ** num2\n",
    "\n",
    "\n",
    "print(\"Addition : \", add)\n",
    "print(\"Subtraction : \", sub)\n",
    "print(\"Multiplication : \", mul)\n",
    "print(\"Division : \", div)\n",
    "print(\"Floor Division : \", floor_div)\n",
    "print(\"Modulus : \", modolus_res)\n",
    "print(\"Exponentiation : \", exponent_res)\n",
    "\n"
   ]
  },
  {
   "cell_type": "code",
   "execution_count": null,
   "metadata": {},
   "outputs": [],
   "source": []
  },
  {
   "cell_type": "code",
   "execution_count": null,
   "metadata": {},
   "outputs": [],
   "source": []
  }
 ],
 "metadata": {
  "kernelspec": {
   "display_name": "venv",
   "language": "python",
   "name": "python3"
  },
  "language_info": {
   "codemirror_mode": {
    "name": "ipython",
    "version": 3
   },
   "file_extension": ".py",
   "mimetype": "text/x-python",
   "name": "python",
   "nbconvert_exporter": "python",
   "pygments_lexer": "ipython3",
   "version": "3.12.0"
  }
 },
 "nbformat": 4,
 "nbformat_minor": 2
}
